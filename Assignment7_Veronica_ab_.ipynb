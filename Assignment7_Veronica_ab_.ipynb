{
  "cells": [
    {
      "cell_type": "markdown",
      "metadata": {
        "id": "view-in-github",
        "colab_type": "text"
      },
      "source": [
        "<a href=\"https://colab.research.google.com/github/Nikav7/Assignment_7_Veronica/blob/main/Assignment7_Veronica_ab_.ipynb\" target=\"_parent\"><img src=\"https://colab.research.google.com/assets/colab-badge.svg\" alt=\"Open In Colab\"/></a>"
      ]
    },
    {
      "cell_type": "markdown",
      "source": [
        "**TRAINING A TTS ON CUSTOM DATASET WITH GLOW-TTS MODEL FROM COQUI-AI**\n",
        "\n",
        "Repo: https://github.com/coqui-ai/TTS.git\n",
        "\n",
        "Recipe: https://github.com/coqui-ai/TTS/blob/dev/recipes/ljspeech/glow_tts/train_glowtts.py"
      ],
      "metadata": {
        "id": "LoPmoPMkevjK"
      }
    },
    {
      "cell_type": "code",
      "execution_count": null,
      "metadata": {
        "id": "dy0xq7kNen-P"
      },
      "outputs": [],
      "source": [
        "#Mount Drive to save the output from model training\n",
        "\n",
        "from google.colab import drive\n",
        "\n",
        "drive.mount(\"/content/drive\")"
      ]
    },
    {
      "cell_type": "code",
      "execution_count": null,
      "metadata": {
        "id": "Bhj1y4BmhF4Q"
      },
      "outputs": [],
      "source": [
        "!pwd"
      ]
    },
    {
      "cell_type": "code",
      "source": [
        "#CLONE COQUI TTS REPO\n",
        "!git clone https://github.com/coqui-ai/TTS"
      ],
      "metadata": {
        "id": "hKZpoxo7g5Ij"
      },
      "execution_count": null,
      "outputs": []
    },
    {
      "cell_type": "code",
      "source": [
        "%cd /content/TTS/"
      ],
      "metadata": {
        "id": "7hui5z8khhFT"
      },
      "execution_count": null,
      "outputs": []
    },
    {
      "cell_type": "code",
      "source": [
        "!pip install TTS\n",
        "!tts --list_models"
      ],
      "metadata": {
        "id": "Hb1uiy5cZ455"
      },
      "execution_count": null,
      "outputs": []
    },
    {
      "cell_type": "code",
      "source": [
        "#INSTALL THE REQUIREMENTS\n",
        "!pip3 install -r requirements.txt"
      ],
      "metadata": {
        "id": "6yhDlMedh1wc"
      },
      "execution_count": null,
      "outputs": []
    },
    {
      "cell_type": "code",
      "source": [
        "#PREPARING THE ENVENVIRONMENT\n",
        "!python3 ./setup.py develop"
      ],
      "metadata": {
        "id": "HusWdMwziU43"
      },
      "execution_count": null,
      "outputs": []
    },
    {
      "cell_type": "code",
      "source": [
        "#RUN THE PREPARED SCRIPT train_glowtts.py TO START TRAINING ON ab_dataset\n",
        "!python3 /content/drive/MyDrive/Barbero/train_glowtts_ab.py\n",
        "#!CUDA_VISIBLE_DEVICES=0 python train_glowtts_ab.py"
      ],
      "metadata": {
        "id": "TNKj8PN07BEh"
      },
      "execution_count": null,
      "outputs": []
    },
    {
      "cell_type": "code",
      "source": [
        "#TEST\n",
        "tts --text \"Buongiorno Belli, questa è la voce di Alessandro Barbero!\" \\\n",
        "    --model_path path/to/model.pth \\\n",
        "    --config_path path/to/config.json \\\n",
        "    --out_path folder/to/save/output.wav"
      ],
      "metadata": {
        "id": "clEdIMtu0l-_"
      },
      "execution_count": null,
      "outputs": []
    },
    {
      "cell_type": "code",
      "execution_count": null,
      "metadata": {
        "id": "IuKpjK63mFUH"
      },
      "outputs": [],
      "source": [
        "#COMMANDS USED LOCAL\n",
        "#!sudo apt-get install espeak-ng\n",
        "#!git clone https://github.com/coqui-ai/TTS.git\n",
        "#!pip install -e .[all,dev,notebooks]"
      ]
    }
  ],
  "metadata": {
    "colab": {
      "collapsed_sections": [],
      "provenance": [],
      "authorship_tag": "ABX9TyP4YzUtLjfJBmvmtkmAacM2",
      "include_colab_link": true
    },
    "gpuClass": "standard",
    "kernelspec": {
      "display_name": "Python 3",
      "name": "python3"
    },
    "language_info": {
      "name": "python"
    }
  },
  "nbformat": 4,
  "nbformat_minor": 0
}