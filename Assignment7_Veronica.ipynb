{
  "cells": [
    {
      "cell_type": "markdown",
      "source": [
        "**TRAINING A TTS ON LJSPEECH DATASET WITH GLOW-TTS MODEL FROM COQUI-AI**\n",
        "\n",
        "Repo: https://github.com/coqui-ai/TTS.git\n",
        "\n",
        "This is a Demo just to look at the code. "
      ],
      "metadata": {
        "id": "LoPmoPMkevjK"
      }
    },
    {
      "cell_type": "code",
      "execution_count": null,
      "metadata": {
        "colab": {
          "base_uri": "https://localhost:8080/"
        },
        "id": "dy0xq7kNen-P",
        "outputId": "808e4151-d286-4535-84c8-6366b52f778f"
      },
      "outputs": [
        {
          "name": "stdout",
          "output_type": "stream",
          "text": [
            "Mounted at /content/drive\n"
          ]
        }
      ],
      "source": [
        "#Mount Drive to save the output from model training\n",
        "\n",
        "from google.colab import drive\n",
        "\n",
        "drive.mount(\"/content/drive\")"
      ]
    },
    {
      "cell_type": "code",
      "execution_count": null,
      "metadata": {
        "colab": {
          "base_uri": "https://localhost:8080/"
        },
        "id": "Bhj1y4BmhF4Q",
        "outputId": "9c2b5310-4712-45ab-fccc-e70ff934bc01"
      },
      "outputs": [
        {
          "output_type": "stream",
          "name": "stdout",
          "text": [
            "/content\n"
          ]
        }
      ],
      "source": [
        "!pwd"
      ]
    },
    {
      "cell_type": "code",
      "execution_count": null,
      "metadata": {
        "id": "OuMkZBeGfjYG"
      },
      "outputs": [],
      "source": [
        "#CLONE THE COQUI TTS REPO, INSTALL THE TTS AND LIST THE AVAILABLE MODELS\n",
        "\n",
        "!git clone https://github.com/coqui-ai/TTS\n",
        "!cd TTS\n",
        "!pip install -e .\n",
        "!tts --list_models"
      ]
    },
    {
      "cell_type": "code",
      "execution_count": null,
      "metadata": {
        "id": "uzdzX3Temu1S"
      },
      "outputs": [],
      "source": [
        "# install espeak backend\n",
        "!sudo apt-get install espeak-ng"
      ]
    },
    {
      "cell_type": "code",
      "source": [
        "#TEST WITH DEFAULT MODEL (tts_models/en/ljspeech/tacotron2-DDC) AND VOCODER MODEL (vocoder_models/en/ljspeech/hifigan_v2)\n",
        "!tts --text \"Thank you for trying, hope you like my Voice\"  --out_path /content/audio_test.wav"
      ],
      "metadata": {
        "id": "6_MfLfj1fyDU"
      },
      "execution_count": null,
      "outputs": []
    },
    {
      "cell_type": "code",
      "execution_count": null,
      "metadata": {
        "colab": {
          "base_uri": "https://localhost:8080/"
        },
        "id": "B1X2QKbxl3C4",
        "outputId": "6e6f2b58-92c9-4ae5-f9fe-697b75322d0e"
      },
      "outputs": [
        {
          "name": "stdout",
          "output_type": "stream",
          "text": [
            "--2022-11-08 00:24:03--  http://data.keithito.com/data/speech/LJSpeech-1.1.tar.bz2\n",
            "Resolving data.keithito.com (data.keithito.com)... 174.138.79.61\n",
            "Connecting to data.keithito.com (data.keithito.com)|174.138.79.61|:80... connected.\n",
            "HTTP request sent, awaiting response... 200 OK\n",
            "Length: 2748572632 (2.6G) [application/octet-stream]\n",
            "Saving to: ‘LJSpeech-1.1.tar.bz2’\n",
            "\n",
            "LJSpeech-1.1.tar.bz 100%[===================>]   2.56G  12.4MB/s    in 3m 28s  \n",
            "\n",
            "2022-11-08 00:27:31 (12.6 MB/s) - ‘LJSpeech-1.1.tar.bz2’ saved [2748572632/2748572632]\n",
            "\n"
          ]
        }
      ],
      "source": [
        "#DOWNLOAD LJSPEECH DATASET TO TRAIN GLOW-TTS MODEL ON IT\n",
        "!wget http://data.keithito.com/data/speech/LJSpeech-1.1.tar.bz2\n",
        "\n",
        "#DECOMPRESS\n",
        "!tar -xjf LJSpeech-1.1.tar.bz2"
      ]
    },
    {
      "cell_type": "markdown",
      "source": [
        "**GLOW TTS MODEL TRAINING**"
      ],
      "metadata": {
        "id": "mYudSe5fiXX1"
      }
    },
    {
      "cell_type": "code",
      "execution_count": null,
      "metadata": {
        "colab": {
          "background_save": true
        },
        "id": "pD4gRg5Zl4iB"
      },
      "outputs": [],
      "source": [
        "import os\n",
        "\n",
        "# TrainingArgs: Defines the set of arguments of the Trainer.\n",
        "from trainer import Trainer, TrainerArgs\n",
        "\n",
        "# GlowTTSConfig: all model related values for training, validating and testing.\n",
        "from TTS.tts.configs.glow_tts_config import GlowTTSConfig\n",
        "\n",
        "# BaseDatasetConfig: defines name, formatter and path of the dataset.\n",
        "from TTS.tts.configs.shared_configs import BaseDatasetConfig\n",
        "from TTS.tts.datasets import load_tts_samples\n",
        "from TTS.tts.models.glow_tts import GlowTTS\n",
        "from TTS.tts.utils.text.tokenizer import TTSTokenizer\n",
        "from TTS.utils.audio import AudioProcessor\n",
        "\n",
        "# we use the same path as this script as our training folder.\n",
        "output_path =\"/content/drive/MyDrive/\"\n",
        "\n",
        "# DEFINE DATASET CONFIG\n",
        "# Set LJSpeech as our target dataset and define its path\n",
        "\n",
        "dataset_config = BaseDatasetConfig(\n",
        "    name=\"ljspeech\", meta_file_train=\"metadata.csv\", path=os.path.join(output_path, \"/content/LJSpeech-1.1/\")\n",
        ")\n",
        "\n",
        "# INITIALIZE THE TRAINING CONFIGURATION\n",
        "# Configure the model. Every config class inherits the BaseTTSConfig.\n",
        "config = GlowTTSConfig(\n",
        "    batch_size=32,\n",
        "    eval_batch_size=16,\n",
        "    num_loader_workers=4,\n",
        "    num_eval_loader_workers=4,\n",
        "    run_eval=True,\n",
        "    test_delay_epochs=-1,\n",
        "    epochs=1000,\n",
        "    text_cleaner=\"phoneme_cleaners\",\n",
        "    use_phonemes=True,\n",
        "    phoneme_language=\"en-us\",\n",
        "    phoneme_cache_path=os.path.join(output_path, \"phoneme_cache\"),\n",
        "    print_step=25,\n",
        "    print_eval=False,\n",
        "    mixed_precision=True,\n",
        "    output_path=output_path,\n",
        "    datasets=[dataset_config],\n",
        ")\n",
        "\n",
        "# INITIALIZE THE AUDIO PROCESSOR\n",
        "ap = AudioProcessor.init_from_config(config)\n",
        "\n",
        "# INITIALIZE THE TOKENIZER\n",
        "tokenizer, config = TTSTokenizer.init_from_config(config)\n",
        "\n",
        "# LOAD DATA SAMPLES\n",
        "train_samples, eval_samples = load_tts_samples(\n",
        "    dataset_config,\n",
        "    eval_split=True,\n",
        "    eval_split_max_size=config.eval_split_max_size,\n",
        "    eval_split_size=config.eval_split_size,\n",
        ")\n",
        "\n",
        "# INITIALIZE THE MODEL\n",
        "# Models take a config object and a speaker manager as input\n",
        "# Config defines the details of the model like the number of layers, the size of the embedding, etc.\n",
        "# Speaker manager is used by multi-speaker models.\n",
        "model = GlowTTS(config, ap, tokenizer, speaker_manager=None)\n",
        "\n",
        "# INITIALIZE THE TRAINER\n",
        "trainer = Trainer(\n",
        "    TrainerArgs(), config, output_path, model=model, train_samples=train_samples, eval_samples=eval_samples\n",
        ")\n",
        "\n",
        "trainer.fit()"
      ]
    },
    {
      "cell_type": "markdown",
      "source": [
        "**TRAIN A VOCODER MODEL** - Hifigan"
      ],
      "metadata": {
        "id": "B5dzp0juTWg4"
      }
    },
    {
      "cell_type": "code",
      "execution_count": null,
      "metadata": {
        "id": "qRWTNJ7NsF8r"
      },
      "outputs": [],
      "source": [
        "import os\n",
        "\n",
        "from trainer import Trainer, TrainerArgs\n",
        "\n",
        "from TTS.utils.audio import AudioProcessor\n",
        "from TTS.vocoder.configs import HifiganConfig\n",
        "from TTS.vocoder.datasets.preprocess import load_wav_data\n",
        "from TTS.vocoder.models.gan import GAN\n",
        "\n",
        "output_path = os.path.dirname(os.path.abspath(__file__))\n",
        "\n",
        "config = HifiganConfig(\n",
        "    batch_size=32,\n",
        "    eval_batch_size=16,\n",
        "    num_loader_workers=4,\n",
        "    num_eval_loader_workers=4,\n",
        "    run_eval=True,\n",
        "    test_delay_epochs=5,\n",
        "    epochs=1000,\n",
        "    seq_len=8192,\n",
        "    pad_short=2000,\n",
        "    use_noise_augment=True,\n",
        "    eval_split_size=10,\n",
        "    print_step=25,\n",
        "    print_eval=False,\n",
        "    mixed_precision=False,\n",
        "    lr_gen=1e-4,\n",
        "    lr_disc=1e-4,\n",
        "    data_path=os.path.join(output_path, \"/content/LJSpeech-1.1/wavs/\"),\n",
        "    output_path=output_path,\n",
        ")\n",
        "\n",
        "# init audio processor\n",
        "ap = AudioProcessor(**config.audio.to_dict())\n",
        "\n",
        "# load training samples\n",
        "eval_samples, train_samples = load_wav_data(config.data_path, config.eval_split_size)\n",
        "\n",
        "# init model\n",
        "model = GAN(config, ap)\n",
        "\n",
        "# init the trainer\n",
        "trainer = Trainer(\n",
        "    TrainerArgs(), config, output_path, model=model, train_samples=train_samples, eval_samples=eval_samples\n",
        ")\n",
        "trainer.fit()"
      ]
    },
    {
      "cell_type": "code",
      "execution_count": null,
      "metadata": {
        "id": "xitEnMZ37E5w"
      },
      "outputs": [],
      "source": [
        "#TEST\n",
        "\n",
        "!tts --text \"Text for TTS\" --model_name \"tts_models/en/ljspeech/glow-tts\" --vocoder_name \"vocoder_models/en/ljspeech/hifigan_v2\" --out_path audio.wav"
      ]
    }
  ],
  "metadata": {
    "accelerator": "GPU",
    "colab": {
      "collapsed_sections": [],
      "provenance": []
    },
    "gpuClass": "standard",
    "kernelspec": {
      "display_name": "Python 3",
      "name": "python3"
    },
    "language_info": {
      "name": "python"
    }
  },
  "nbformat": 4,
  "nbformat_minor": 0
}