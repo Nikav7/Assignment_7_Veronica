{
  "cells": [
    {
      "cell_type": "markdown",
      "metadata": {
        "id": "view-in-github",
        "colab_type": "text"
      },
      "source": [
        "<a href=\"https://colab.research.google.com/github/Nikav7/Assignment_7_Veronica/blob/main/Assignment7_Veronica.ipynb\" target=\"_parent\"><img src=\"https://colab.research.google.com/assets/colab-badge.svg\" alt=\"Open In Colab\"/></a>"
      ]
    },
    {
      "cell_type": "markdown",
      "source": [
        "**TRAINING A TTS ON LJSPEECH DATASET WITH GLOW-TTS MODEL FROM COQUI-AI FOR ITALIAN**\n",
        "\n",
        "Repo: https://github.com/coqui-ai/TTS.git\n",
        "\n",
        "This is a Demo just to look at the code. "
      ],
      "metadata": {
        "id": "LoPmoPMkevjK"
      }
    },
    {
      "cell_type": "code",
      "execution_count": null,
      "metadata": {
        "id": "dy0xq7kNen-P"
      },
      "outputs": [],
      "source": [
        "#Mount Drive to save the output from model training\n",
        "\n",
        "from google.colab import drive\n",
        "\n",
        "drive.mount(\"/content/drive\")"
      ]
    },
    {
      "cell_type": "code",
      "execution_count": null,
      "metadata": {
        "id": "Bhj1y4BmhF4Q"
      },
      "outputs": [],
      "source": [
        "!pwd"
      ]
    },
    {
      "cell_type": "code",
      "execution_count": null,
      "metadata": {
        "id": "OuMkZBeGfjYG"
      },
      "outputs": [],
      "source": [
        "#CLONE THE COQUI TTS REPO, INSTALL THE TTS AND LIST THE AVAILABLE MODELS\n",
        "\n",
        "!git clone https://github.com/coqui-ai/TTS"
      ]
    },
    {
      "cell_type": "code",
      "source": [
        "%cd /content/TTS"
      ],
      "metadata": {
        "id": "MLKYYP4hFkUM"
      },
      "execution_count": null,
      "outputs": []
    },
    {
      "cell_type": "code",
      "execution_count": null,
      "metadata": {
        "id": "uzdzX3Temu1S"
      },
      "outputs": [],
      "source": [
        "# install espeak backend\n",
        "!sudo apt-get install espeak-ng"
      ]
    },
    {
      "cell_type": "code",
      "source": [
        "!pip install -r requirements.txt\n",
        "!python setup.py install"
      ],
      "metadata": {
        "id": "U5fMIL2j85y3"
      },
      "execution_count": null,
      "outputs": []
    },
    {
      "cell_type": "code",
      "source": [
        "!pip install tts\n",
        "!tts --list_models"
      ],
      "metadata": {
        "id": "BMbZs_LsFdfX"
      },
      "execution_count": null,
      "outputs": []
    },
    {
      "cell_type": "code",
      "source": [
        "#TEST WITH LJSPEECH/GLOW-TTS MODEL (tts_models/en/ljspeech/glow-tts) AND ITS DEFAULT VOCODER MODEL\n",
        "!tts --text \"Thank you for trying, hope you like this Voice\" --model_name \"tts_models/en/ljspeech/glow-tts\" --out_path /content/audio_test.wav"
      ],
      "metadata": {
        "id": "6_MfLfj1fyDU"
      },
      "execution_count": null,
      "outputs": []
    },
    {
      "cell_type": "code",
      "source": [
        "#GO BACK TO CONTENT BEFORE DOWNLOADING DATASET\n",
        "%cd /content"
      ],
      "metadata": {
        "colab": {
          "base_uri": "https://localhost:8080/"
        },
        "id": "mJlzzjZvhhj6",
        "outputId": "fd0f54e6-5b01-4b37-da08-9f070cd3ad05"
      },
      "execution_count": 11,
      "outputs": [
        {
          "output_type": "stream",
          "name": "stdout",
          "text": [
            "/content\n"
          ]
        }
      ]
    },
    {
      "cell_type": "code",
      "execution_count": null,
      "metadata": {
        "id": "B1X2QKbxl3C4"
      },
      "outputs": [],
      "source": [
        "#DOWNLOAD LJSPEECH DATASET TO TRAIN GLOW-TTS MODEL ON IT\n",
        "!wget http://data.keithito.com/data/speech/LJSpeech-1.1.tar.bz2\n",
        "\n",
        "#DECOMPRESS\n",
        "!tar -xjf LJSpeech-1.1.tar.bz2"
      ]
    },
    {
      "cell_type": "code",
      "source": [
        "#%cd /content/TTS"
      ],
      "metadata": {
        "id": "mhkHnyWSZs9r"
      },
      "execution_count": null,
      "outputs": []
    },
    {
      "cell_type": "markdown",
      "source": [
        "**GLOW TTS MODEL TRAINING with italian phoneme language**\n",
        "\n",
        "Note: sometimes it gives an error for the first modul (TTS.tts.configs.glow_tts_config) -- restart the runtime to make it work\n",
        "\n",
        "IMPORTANT: to try with english, change the phoneme language to \"en-us\""
      ],
      "metadata": {
        "id": "mYudSe5fiXX1"
      }
    },
    {
      "cell_type": "code",
      "execution_count": null,
      "metadata": {
        "id": "pD4gRg5Zl4iB"
      },
      "outputs": [],
      "source": [
        "#this take a long time but if you want to give it a try, \n",
        "#you can change the number of epochs to a lower number\n",
        "\n",
        "import os\n",
        "\n",
        "# TrainingArgs: Defines the set of arguments of the Trainer.\n",
        "from trainer import Trainer, TrainerArgs\n",
        "\n",
        "# GlowTTSConfig: all model related values for training, validating and testing.\n",
        "from TTS.tts.configs.glow_tts_config import GlowTTSConfig\n",
        "\n",
        "# BaseDatasetConfig: defines name, formatter and path of the dataset.\n",
        "from TTS.tts.configs.shared_configs import BaseDatasetConfig\n",
        "from TTS.tts.datasets import load_tts_samples\n",
        "from TTS.tts.models.glow_tts import GlowTTS\n",
        "from TTS.tts.utils.text.tokenizer import TTSTokenizer\n",
        "from TTS.utils.audio import AudioProcessor\n",
        "\n",
        "# we use the same path as this script as our training folder.\n",
        "output_path =\"/content/drive/MyDrive/trainoutput-2\" #HERE YOU HAVE TO SPECIFY A FOLDER CREATED ON YOUR DRIVE\n",
        "\n",
        "# DEFINE DATASET CONFIG\n",
        "# Set LJSpeech as our target dataset and define its path\n",
        "\n",
        "dataset_config = BaseDatasetConfig(\n",
        "    formatter=\"ljspeech\", meta_file_train=\"metadata.csv\", path=os.path.join(output_path, \"/content/LJSpeech-1.1/\")\n",
        ")\n",
        "\n",
        "# INITIALIZE THE TRAINING CONFIGURATION\n",
        "# Configure the model. Every config class inherits the BaseTTSConfig.\n",
        "config = GlowTTSConfig(\n",
        "    batch_size=32,\n",
        "    eval_batch_size=16,\n",
        "    num_loader_workers=4,\n",
        "    num_eval_loader_workers=4,\n",
        "    run_eval=True,\n",
        "    test_delay_epochs=-1,\n",
        "    epochs=1000,\n",
        "    text_cleaner=\"phoneme_cleaners\",\n",
        "    use_phonemes=True,\n",
        "    phoneme_language=\"it-it\",\n",
        "    phoneme_cache_path=os.path.join(output_path, \"phoneme_cache\"),\n",
        "    print_step=25,\n",
        "    print_eval=False,\n",
        "    mixed_precision=True,\n",
        "    output_path=output_path,\n",
        "    datasets=[dataset_config],\n",
        ")\n",
        "\n",
        "# INITIALIZE THE AUDIO PROCESSOR\n",
        "ap = AudioProcessor.init_from_config(config)\n",
        "\n",
        "# INITIALIZE THE TOKENIZER\n",
        "tokenizer, config = TTSTokenizer.init_from_config(config)\n",
        "\n",
        "# LOAD DATA SAMPLES\n",
        "train_samples, eval_samples = load_tts_samples(\n",
        "    dataset_config,\n",
        "    eval_split=True,\n",
        "    eval_split_max_size=config.eval_split_max_size,\n",
        "    eval_split_size=config.eval_split_size,\n",
        ")\n",
        "\n",
        "# INITIALIZE THE MODEL\n",
        "# Models take a config object and a speaker manager as input\n",
        "# Config defines the details of the model like the number of layers, the size of the embedding, etc.\n",
        "# Speaker manager is used by multi-speaker models.\n",
        "model = GlowTTS(config, ap, tokenizer, speaker_manager=None)\n",
        "\n",
        "# INITIALIZE THE TRAINER\n",
        "trainer = Trainer(\n",
        "    TrainerArgs(), config, output_path, model=model, train_samples=train_samples, eval_samples=eval_samples\n",
        ")\n",
        "\n",
        "trainer.fit()"
      ]
    },
    {
      "cell_type": "code",
      "source": [
        "!tts-server --list_models"
      ],
      "metadata": {
        "id": "6awolBRSMMd6"
      },
      "execution_count": null,
      "outputs": []
    }
  ],
  "metadata": {
    "colab": {
      "collapsed_sections": [],
      "provenance": [],
      "authorship_tag": "ABX9TyN4qKacYuMsQ+O58O6hks5w",
      "include_colab_link": true
    },
    "gpuClass": "standard",
    "kernelspec": {
      "display_name": "Python 3",
      "name": "python3"
    },
    "language_info": {
      "name": "python"
    }
  },
  "nbformat": 4,
  "nbformat_minor": 0
}