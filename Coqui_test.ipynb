{
  "nbformat": 4,
  "nbformat_minor": 0,
  "metadata": {
    "colab": {
      "provenance": [],
      "collapsed_sections": []
    },
    "kernelspec": {
      "name": "python3",
      "display_name": "Python 3"
    },
    "language_info": {
      "name": "python"
    },
    "gpuClass": "standard"
  },
  "cells": [
    {
      "cell_type": "code",
      "execution_count": null,
      "metadata": {
        "id": "5EftvYqS2CxF"
      },
      "outputs": [],
      "source": [
        "#INSTALL COQUI TTS\n",
        "!pip install TTS"
      ]
    },
    {
      "cell_type": "code",
      "source": [
        "#LIST AVAILABLE MODELS AND VOCODER MODELS\n",
        "!tts --list_models"
      ],
      "metadata": {
        "colab": {
          "base_uri": "https://localhost:8080/"
        },
        "id": "FXZbBRin3G3V",
        "outputId": "8d053960-2559-43b8-a6a2-e186ad3710e2"
      },
      "execution_count": null,
      "outputs": [
        {
          "output_type": "stream",
          "name": "stdout",
          "text": [
            " Name format: type/language/dataset/model\n",
            " 1: tts_models/multilingual/multi-dataset/your_tts\n",
            " 2: tts_models/en/ek1/tacotron2\n",
            " 3: tts_models/en/ljspeech/tacotron2-DDC\n",
            " 4: tts_models/en/ljspeech/tacotron2-DDC_ph\n",
            " 5: tts_models/en/ljspeech/glow-tts\n",
            " 6: tts_models/en/ljspeech/speedy-speech\n",
            " 7: tts_models/en/ljspeech/tacotron2-DCA\n",
            " 8: tts_models/en/ljspeech/vits\n",
            " 9: tts_models/en/ljspeech/fast_pitch\n",
            " 10: tts_models/en/vctk/vits\n",
            " 11: tts_models/en/vctk/fast_pitch\n",
            " 12: tts_models/en/sam/tacotron-DDC\n",
            " 13: tts_models/en/blizzard2013/capacitron-t2-c50\n",
            " 14: tts_models/en/blizzard2013/capacitron-t2-c150\n",
            " 15: tts_models/es/mai/tacotron2-DDC\n",
            " 16: tts_models/fr/mai/tacotron2-DDC\n",
            " 17: tts_models/uk/mai/glow-tts\n",
            " 18: tts_models/zh-CN/baker/tacotron2-DDC-GST\n",
            " 19: tts_models/nl/mai/tacotron2-DDC\n",
            " 20: tts_models/de/thorsten/tacotron2-DCA\n",
            " 21: tts_models/de/thorsten/vits\n",
            " 22: tts_models/de/thorsten/tacotron2-DDC\n",
            " 23: tts_models/ja/kokoro/tacotron2-DDC\n",
            " 24: tts_models/tr/common-voice/glow-tts\n",
            " 25: tts_models/it/mai_female/glow-tts\n",
            " 26: tts_models/it/mai_female/vits\n",
            " 27: tts_models/it/mai_male/glow-tts\n",
            " 28: tts_models/it/mai_male/vits\n",
            " 29: tts_models/ewe/openbible/vits\n",
            " 30: tts_models/hau/openbible/vits\n",
            " 31: tts_models/lin/openbible/vits\n",
            " 32: tts_models/tw_akuapem/openbible/vits\n",
            " 33: tts_models/tw_asante/openbible/vits\n",
            " 34: tts_models/yor/openbible/vits\n",
            " 1: vocoder_models/universal/libri-tts/wavegrad\n",
            " 2: vocoder_models/universal/libri-tts/fullband-melgan\n",
            " 3: vocoder_models/en/ek1/wavegrad\n",
            " 4: vocoder_models/en/ljspeech/multiband-melgan\n",
            " 5: vocoder_models/en/ljspeech/hifigan_v2\n",
            " 6: vocoder_models/en/ljspeech/univnet\n",
            " 7: vocoder_models/en/blizzard2013/hifigan_v2\n",
            " 8: vocoder_models/en/vctk/hifigan_v2\n",
            " 9: vocoder_models/en/sam/hifigan_v2\n",
            " 10: vocoder_models/nl/mai/parallel-wavegan\n",
            " 11: vocoder_models/de/thorsten/wavegrad\n",
            " 12: vocoder_models/de/thorsten/fullband-melgan\n",
            " 13: vocoder_models/de/thorsten/hifigan_v1\n",
            " 14: vocoder_models/ja/kokoro/hifigan_v1\n",
            " 15: vocoder_models/uk/mai/multiband-melgan\n",
            " 16: vocoder_models/tr/common-voice/hifigan\n"
          ]
        }
      ]
    },
    {
      "cell_type": "code",
      "source": [
        "#TEST ITALIAN --> tts_models/it/mai_female/vits\n",
        "!tts --text \"Buongiorno Signori, questa è una voce generata da un computer\" --model_name \"tts_models/it/mai_female/vits\" --out_path /content/test_ita.wav"
      ],
      "metadata": {
        "id": "c-p4ROmP2WIE"
      },
      "execution_count": null,
      "outputs": []
    },
    {
      "cell_type": "code",
      "source": [
        "#TEST ITALIAN 2 --> tts_models/it/mai_male/glow-tts  -- WITH GLOW-TTS SOUNDS MORE NATURAL\n",
        "!tts --text \"Buongiorno Signori, questa è una voce generata da un computer\" --model_name \"tts_models/it/mai_male/glow-tts\" --out_path /content/test_ita2.wav"
      ],
      "metadata": {
        "id": "blUhbFvnR5wy"
      },
      "execution_count": null,
      "outputs": []
    },
    {
      "cell_type": "code",
      "source": [
        "#TEST ITALIAN 3 --> tts_models/it/mai_female/glow-tts\n",
        "!tts --text \"Buongiorno Signori, questa è una voce generata da un computer\" --model_name \"tts_models/it/mai_female/glow-tts\" --out_path /content/test_ita3.wav"
      ],
      "metadata": {
        "id": "whP_V-ZmSXMJ"
      },
      "execution_count": null,
      "outputs": []
    },
    {
      "cell_type": "code",
      "source": [
        "#TEST ENGLISH - default models --> tts_models/en/ljspeech/tacotron2-DDC and vocoder_models/en/ljspeech/hifigan_v2\n",
        "!tts --text \"Goodmorning Sirs, this is a voice generated from a computer\" --model_name \"tts_models/en/ljspeech/tacotron2-DDC\" --out_path /content/test_eng.wav"
      ],
      "metadata": {
        "id": "c2UMSgo-MIq3"
      },
      "execution_count": null,
      "outputs": []
    },
    {
      "cell_type": "code",
      "source": [
        "#TEST FRENCH --> tts_models/fr/mai/tacotron2-DDC\n",
        "!tts --text \"Bonjour Messieurs, ceci est une voix générée par ordinateur\" --model_name \"tts_models/fr/mai/tacotron2-DDC\" --out_path /content/test_fr.wav"
      ],
      "metadata": {
        "id": "OR7GUyotMb5D"
      },
      "execution_count": null,
      "outputs": []
    }
  ]
}