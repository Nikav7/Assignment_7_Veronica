{
  "nbformat": 4,
  "nbformat_minor": 0,
  "metadata": {
    "colab": {
      "provenance": [],
      "collapsed_sections": [],
      "authorship_tag": "ABX9TyNo4/ZxM5PjbTlJsyNIJw7d",
      "include_colab_link": true
    },
    "kernelspec": {
      "name": "python3",
      "display_name": "Python 3"
    },
    "language_info": {
      "name": "python"
    },
    "gpuClass": "standard"
  },
  "cells": [
    {
      "cell_type": "markdown",
      "metadata": {
        "id": "view-in-github",
        "colab_type": "text"
      },
      "source": [
        "<a href=\"https://colab.research.google.com/github/Nikav7/Assignment_7_Veronica/blob/main/Coqui_test.ipynb\" target=\"_parent\"><img src=\"https://colab.research.google.com/assets/colab-badge.svg\" alt=\"Open In Colab\"/></a>"
      ]
    },
    {
      "cell_type": "code",
      "execution_count": null,
      "metadata": {
        "id": "5EftvYqS2CxF"
      },
      "outputs": [],
      "source": [
        "#INSTALL COQUI TTS\n",
        "!pip install TTS"
      ]
    },
    {
      "cell_type": "code",
      "source": [
        "#LIST AVAILABLE MODELS AND VOCODER MODELS\n",
        "!tts --list_models"
      ],
      "metadata": {
        "id": "FXZbBRin3G3V"
      },
      "execution_count": null,
      "outputs": []
    },
    {
      "cell_type": "code",
      "source": [
        "#TEST ITALIAN 1 --> tts_models/it/mai_female/vits\n",
        "!tts --text \"Buongiorno Signori, questa è una voce generata da un computer\" --model_name \"tts_models/it/mai_female/vits\" --out_path /content/test_ita.wav"
      ],
      "metadata": {
        "id": "c-p4ROmP2WIE"
      },
      "execution_count": null,
      "outputs": []
    },
    {
      "cell_type": "code",
      "source": [
        "#TEST ITALIAN 2 --> tts_models/it/mai_female/glow-tts\n",
        "!tts --text \"Buongiorno Signori, questa è una voce generata da un computer\" --model_name \"tts_models/it/mai_female/glow-tts\" --out_path /content/test_ita2.wav"
      ],
      "metadata": {
        "id": "whP_V-ZmSXMJ"
      },
      "execution_count": null,
      "outputs": []
    },
    {
      "cell_type": "code",
      "source": [
        "#TEST ENGLISH - default models --> tts_models/en/ljspeech/tacotron2-DDC and vocoder_models/en/ljspeech/hifigan_v2\n",
        "!tts --text \"Goodmorning Sirs, this is a voice generated from a computer\" --model_name \"tts_models/en/ljspeech/tacotron2-DDC\" --out_path /content/test_eng.wav"
      ],
      "metadata": {
        "id": "c2UMSgo-MIq3"
      },
      "execution_count": null,
      "outputs": []
    },
    {
      "cell_type": "code",
      "source": [
        "#TEST FRENCH --> tts_models/fr/mai/tacotron2-DDC\n",
        "!tts --text \"Bonjour Messieurs, ceci est une voix générée par ordinateur\" --model_name \"tts_models/fr/mai/tacotron2-DDC\" --out_path /content/test_fr.wav"
      ],
      "metadata": {
        "id": "OR7GUyotMb5D"
      },
      "execution_count": null,
      "outputs": []
    },
    {
      "cell_type": "code",
      "source": [
        "#TEST with a custom .wav \n",
        "#YOU NEED TO UPLOAD THE FILE TO THIS SESSION TO TRY, YOU FIND IT IN THE REPO \"ab-136.wav\"\n",
        "#output is saved as \"tts_output.wav\"\n",
        "#unfortunately I was able to make it work just with language_idx \"en\"\n",
        "!tts  --text \"Buongiorno Belli! questa è una custom voice!\" --model_name tts_models/multilingual/multi-dataset/your_tts  --speaker_wav ab-136.wav --language_idx \"en\""
      ],
      "metadata": {
        "id": "XynRZkPFX8Yr"
      },
      "execution_count": null,
      "outputs": []
    }
  ]
}